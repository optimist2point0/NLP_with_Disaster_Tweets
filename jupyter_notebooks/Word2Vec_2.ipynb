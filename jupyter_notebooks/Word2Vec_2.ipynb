{
 "cells": [
  {
   "cell_type": "code",
   "execution_count": 1,
   "id": "5071feed",
   "metadata": {},
   "outputs": [],
   "source": [
    "import os\n",
    "import re\n",
    "from collections import Counter\n",
    "\n",
    "import numpy as np\n",
    "import pandas as pd\n",
    "\n",
    "import matplotlib.pyplot as plt\n",
    "\n",
    "from sklearn.manifold import TSNE\n"
   ]
  },
  {
   "cell_type": "code",
   "execution_count": 2,
   "id": "7b01dac7",
   "metadata": {},
   "outputs": [],
   "source": [
    "pd.set_option('display.max_rows', 500)\n",
    "pd.set_option('display.max_columns', 500)\n",
    "pd.set_option('display.width', 1000)"
   ]
  },
  {
   "cell_type": "code",
   "execution_count": null,
   "id": "b8e09cce",
   "metadata": {},
   "outputs": [],
   "source": []
  },
  {
   "cell_type": "code",
   "execution_count": 3,
   "id": "a9b6ccc8",
   "metadata": {},
   "outputs": [],
   "source": [
    "#Global variables\n",
    "DATA_PATH = '../data/input/clean_data'\n",
    "\n",
    "RANDOM_SEED = 42"
   ]
  },
  {
   "cell_type": "code",
   "execution_count": 4,
   "id": "861e0df4",
   "metadata": {},
   "outputs": [
    {
     "data": {
      "text/html": [
       "<div>\n",
       "<style scoped>\n",
       "    .dataframe tbody tr th:only-of-type {\n",
       "        vertical-align: middle;\n",
       "    }\n",
       "\n",
       "    .dataframe tbody tr th {\n",
       "        vertical-align: top;\n",
       "    }\n",
       "\n",
       "    .dataframe thead th {\n",
       "        text-align: right;\n",
       "    }\n",
       "</style>\n",
       "<table border=\"1\" class=\"dataframe\">\n",
       "  <thead>\n",
       "    <tr style=\"text-align: right;\">\n",
       "      <th></th>\n",
       "      <th>id</th>\n",
       "      <th>keyword</th>\n",
       "      <th>location</th>\n",
       "      <th>text</th>\n",
       "      <th>word_count</th>\n",
       "      <th>unique_word_count</th>\n",
       "      <th>stop_word_count</th>\n",
       "      <th>url_count</th>\n",
       "      <th>mean_word_length</th>\n",
       "      <th>char_count</th>\n",
       "      <th>punctuation_count</th>\n",
       "      <th>hashtag_count</th>\n",
       "      <th>mention_count</th>\n",
       "      <th>prep_text</th>\n",
       "      <th>no_stopwords_text</th>\n",
       "    </tr>\n",
       "  </thead>\n",
       "  <tbody>\n",
       "    <tr>\n",
       "      <th>0</th>\n",
       "      <td>1</td>\n",
       "      <td>no_keyword</td>\n",
       "      <td>no_location</td>\n",
       "      <td>Our Deeds are the Reason of this #earthquake M...</td>\n",
       "      <td>13</td>\n",
       "      <td>13</td>\n",
       "      <td>6</td>\n",
       "      <td>0</td>\n",
       "      <td>4.384615</td>\n",
       "      <td>69</td>\n",
       "      <td>1</td>\n",
       "      <td>1</td>\n",
       "      <td>0</td>\n",
       "      <td>our deeds are the reason of this earthquake ma...</td>\n",
       "      <td>deeds reason earthquake may allah forgive us</td>\n",
       "    </tr>\n",
       "    <tr>\n",
       "      <th>1</th>\n",
       "      <td>4</td>\n",
       "      <td>no_keyword</td>\n",
       "      <td>no_location</td>\n",
       "      <td>Forest fire near La Ronge Sask. Canada</td>\n",
       "      <td>7</td>\n",
       "      <td>7</td>\n",
       "      <td>0</td>\n",
       "      <td>0</td>\n",
       "      <td>4.571429</td>\n",
       "      <td>38</td>\n",
       "      <td>1</td>\n",
       "      <td>0</td>\n",
       "      <td>0</td>\n",
       "      <td>forest fire near la ronge sask canada</td>\n",
       "      <td>forest fire near la ronge sask canada</td>\n",
       "    </tr>\n",
       "    <tr>\n",
       "      <th>2</th>\n",
       "      <td>5</td>\n",
       "      <td>no_keyword</td>\n",
       "      <td>no_location</td>\n",
       "      <td>All residents asked to 'shelter in place' are ...</td>\n",
       "      <td>22</td>\n",
       "      <td>20</td>\n",
       "      <td>11</td>\n",
       "      <td>0</td>\n",
       "      <td>5.090909</td>\n",
       "      <td>133</td>\n",
       "      <td>3</td>\n",
       "      <td>0</td>\n",
       "      <td>0</td>\n",
       "      <td>all residents asked to shelter in place are be...</td>\n",
       "      <td>residents asked shelter place notified officer...</td>\n",
       "    </tr>\n",
       "    <tr>\n",
       "      <th>3</th>\n",
       "      <td>6</td>\n",
       "      <td>no_keyword</td>\n",
       "      <td>no_location</td>\n",
       "      <td>13,000 people receive #wildfires evacuation or...</td>\n",
       "      <td>8</td>\n",
       "      <td>8</td>\n",
       "      <td>1</td>\n",
       "      <td>0</td>\n",
       "      <td>7.125000</td>\n",
       "      <td>65</td>\n",
       "      <td>2</td>\n",
       "      <td>1</td>\n",
       "      <td>0</td>\n",
       "      <td>people receive wildfires evacuation orders in ...</td>\n",
       "      <td>people receive wildfires evacuation orders cal...</td>\n",
       "    </tr>\n",
       "    <tr>\n",
       "      <th>4</th>\n",
       "      <td>7</td>\n",
       "      <td>no_keyword</td>\n",
       "      <td>no_location</td>\n",
       "      <td>Just got sent this photo from Ruby #Alaska as ...</td>\n",
       "      <td>16</td>\n",
       "      <td>15</td>\n",
       "      <td>7</td>\n",
       "      <td>0</td>\n",
       "      <td>4.500000</td>\n",
       "      <td>88</td>\n",
       "      <td>2</td>\n",
       "      <td>2</td>\n",
       "      <td>0</td>\n",
       "      <td>just got sent this photo from ruby alaska as s...</td>\n",
       "      <td>got sent photo ruby alaska smoke wildfires pou...</td>\n",
       "    </tr>\n",
       "  </tbody>\n",
       "</table>\n",
       "</div>"
      ],
      "text/plain": [
       "   id     keyword     location                                               text  word_count  unique_word_count  stop_word_count  url_count  mean_word_length  char_count  punctuation_count  hashtag_count  mention_count                                          prep_text                                  no_stopwords_text\n",
       "0   1  no_keyword  no_location  Our Deeds are the Reason of this #earthquake M...          13                 13                6          0          4.384615          69                  1              1              0  our deeds are the reason of this earthquake ma...       deeds reason earthquake may allah forgive us\n",
       "1   4  no_keyword  no_location             Forest fire near La Ronge Sask. Canada           7                  7                0          0          4.571429          38                  1              0              0              forest fire near la ronge sask canada              forest fire near la ronge sask canada\n",
       "2   5  no_keyword  no_location  All residents asked to 'shelter in place' are ...          22                 20               11          0          5.090909         133                  3              0              0  all residents asked to shelter in place are be...  residents asked shelter place notified officer...\n",
       "3   6  no_keyword  no_location  13,000 people receive #wildfires evacuation or...           8                  8                1          0          7.125000          65                  2              1              0  people receive wildfires evacuation orders in ...  people receive wildfires evacuation orders cal...\n",
       "4   7  no_keyword  no_location  Just got sent this photo from Ruby #Alaska as ...          16                 15                7          0          4.500000          88                  2              2              0  just got sent this photo from ruby alaska as s...  got sent photo ruby alaska smoke wildfires pou..."
      ]
     },
     "execution_count": 4,
     "metadata": {},
     "output_type": "execute_result"
    }
   ],
   "source": [
    "#read data\n",
    "df_train = pd.read_csv(os.path.join(DATA_PATH,'train_cleaned.csv'))\n",
    "df_test = pd.read_csv(os.path.join(DATA_PATH,'test_cleaned.csv'))\n",
    "\n",
    "#make common dataframe\n",
    "df = pd.concat([df_train.drop(columns='target'), df_test.copy()],ignore_index=True, axis=0)\n",
    "\n",
    "df.head()"
   ]
  },
  {
   "cell_type": "code",
   "execution_count": null,
   "id": "639d9256",
   "metadata": {},
   "outputs": [],
   "source": []
  },
  {
   "cell_type": "code",
   "execution_count": 5,
   "id": "b36275bb",
   "metadata": {},
   "outputs": [
    {
     "name": "stdout",
     "output_type": "stream",
     "text": [
      "<class 'pandas.core.frame.DataFrame'>\n",
      "RangeIndex: 10661 entries, 0 to 10660\n",
      "Data columns (total 15 columns):\n",
      " #   Column             Non-Null Count  Dtype  \n",
      "---  ------             --------------  -----  \n",
      " 0   id                 10661 non-null  int64  \n",
      " 1   keyword            10661 non-null  object \n",
      " 2   location           10661 non-null  object \n",
      " 3   text               10661 non-null  object \n",
      " 4   word_count         10661 non-null  int64  \n",
      " 5   unique_word_count  10661 non-null  int64  \n",
      " 6   stop_word_count    10661 non-null  int64  \n",
      " 7   url_count          10661 non-null  int64  \n",
      " 8   mean_word_length   10661 non-null  float64\n",
      " 9   char_count         10661 non-null  int64  \n",
      " 10  punctuation_count  10661 non-null  int64  \n",
      " 11  hashtag_count      10661 non-null  int64  \n",
      " 12  mention_count      10661 non-null  int64  \n",
      " 13  prep_text          10661 non-null  object \n",
      " 14  no_stopwords_text  10660 non-null  object \n",
      "dtypes: float64(1), int64(9), object(5)\n",
      "memory usage: 1.2+ MB\n"
     ]
    }
   ],
   "source": [
    "df.info()"
   ]
  },
  {
   "cell_type": "code",
   "execution_count": 6,
   "id": "5b5b28cc",
   "metadata": {},
   "outputs": [],
   "source": [
    "#for this approach we will use no_stopwords_text and we can drop nans\n",
    "df.dropna(inplace=True, ignore_index=True)"
   ]
  },
  {
   "cell_type": "code",
   "execution_count": null,
   "id": "05df11ee",
   "metadata": {},
   "outputs": [],
   "source": []
  },
  {
   "cell_type": "markdown",
   "id": "f10aa083",
   "metadata": {},
   "source": [
    "# Generate variables \n",
    "***\n",
    "\n",
    "    word_to_index : A dictionary mapping each word to an integer value {'modern': 0, 'humans': 1}\n",
    "\n",
    "    index_to_word : A dictionary mapping each word to an integer value {0: 'modern', 1: 'humans'}\n",
    "\n",
    "    corpus  : The entire data consisting of all the words\n",
    "\n",
    "    vocab_size : Number of unique words in the corpus"
   ]
  },
  {
   "cell_type": "code",
   "execution_count": 7,
   "id": "7e001740",
   "metadata": {},
   "outputs": [],
   "source": [
    "# corpus\n",
    "corpus = df['no_stopwords_text'].apply(lambda x: [x.split()]).sum()\n",
    "corpus_flat = df['no_stopwords_text'].apply(lambda x: x.split()).sum()\n",
    "\n",
    "#vocab_size\n",
    "unique_words = np.unique(corpus_flat)\n",
    "vocab_size = unique_words.shape[0]\n",
    "\n",
    "#word_to_index & index_to_word\n",
    "word_to_index = {}\n",
    "index_to_word = {}\n",
    "\n",
    "ind = 0\n",
    "for word in unique_words:\n",
    "    word_to_index[word] = ind\n",
    "    index_to_word[ind] = word\n",
    "    ind+=1"
   ]
  },
  {
   "cell_type": "code",
   "execution_count": 8,
   "id": "b52dcc19",
   "metadata": {},
   "outputs": [
    {
     "data": {
      "text/plain": [
       "16919"
      ]
     },
     "execution_count": 8,
     "metadata": {},
     "output_type": "execute_result"
    }
   ],
   "source": [
    "vocab_size"
   ]
  },
  {
   "cell_type": "code",
   "execution_count": null,
   "id": "cc3b4302",
   "metadata": {},
   "outputs": [],
   "source": []
  },
  {
   "cell_type": "markdown",
   "id": "3e4d4e07",
   "metadata": {},
   "source": [
    "# Generate training data "
   ]
  },
  {
   "cell_type": "code",
   "execution_count": 9,
   "id": "3773cbb2",
   "metadata": {},
   "outputs": [],
   "source": [
    "def get_one_hot_vectors(target_word,context_words,vocab_size,word_to_index):\n",
    "    \n",
    "    #Create an array of size = vocab_size filled with zeros\n",
    "    trgt_word_vector = np.zeros(vocab_size)\n",
    "    \n",
    "    #Get the index of the target_word according to the dictionary word_to_index. \n",
    "    #If target_word = best, the index according to the dictionary word_to_index is 0. \n",
    "    #So the one hot vector will be [1, 0, 0, 0, 0, 0, 0, 0, 0]\n",
    "    index_of_word_dictionary = word_to_index.get(target_word) \n",
    "    \n",
    "    #Set the index to 1\n",
    "    trgt_word_vector[index_of_word_dictionary] = 1\n",
    "    \n",
    "    #Repeat same steps for context_words but in a loop\n",
    "    ctxt_word_vector = np.zeros(vocab_size)\n",
    "    \n",
    "    \n",
    "    for word in context_words:\n",
    "        index_of_word_dictionary = word_to_index.get(word) \n",
    "        ctxt_word_vector[index_of_word_dictionary] = 1\n",
    "        \n",
    "    return trgt_word_vector,ctxt_word_vector"
   ]
  },
  {
   "cell_type": "code",
   "execution_count": 12,
   "id": "7f6a2278",
   "metadata": {},
   "outputs": [],
   "source": [
    "#Note : Below comments for trgt_word_index, ctxt_word_index are with the above sample text for understanding the code flow\n",
    "\n",
    "def generate_training_data(corpus,window_size,vocab_size,word_to_index):\n",
    "\n",
    "    training_data =  []\n",
    "    \n",
    "    for tweet in corpus:\n",
    "        \n",
    "        len_of_tweet = len(tweet)\n",
    "        #print(len_of_tweet)\n",
    "        \n",
    "        if len_of_tweet<3:\n",
    "            continue\n",
    "        \n",
    "        for i,word in enumerate(tweet):\n",
    "            \n",
    "            \n",
    "            \n",
    "            \n",
    "            \n",
    "            index_target_word = i\n",
    "            target_word = word\n",
    "            context_words = []\n",
    "\n",
    "            #when target word is the first word\n",
    "            if i == 0:  \n",
    "\n",
    "                # trgt_word_index:(0), ctxt_word_index:(1,2)\n",
    "                context_words = [tweet[x] for x in range(i + 1 , window_size + 1)] \n",
    "\n",
    "\n",
    "            #when target word is the last word\n",
    "            elif i == len_of_tweet-1:\n",
    "\n",
    "                # trgt_word_index:(9), ctxt_word_index:(8,7), length_of_corpus = 10\n",
    "                context_words = [tweet[x] for x in range(len_of_tweet - 2 ,len_of_tweet-2 - window_size  , -1 )]\n",
    "\n",
    "            #When target word is the middle word\n",
    "            else:\n",
    "\n",
    "                #Before the middle target word\n",
    "                before_target_word_index = index_target_word - 1\n",
    "                for x in range(before_target_word_index, before_target_word_index - window_size , -1):\n",
    "                    if x >=0:\n",
    "                        context_words.extend([tweet[x]])\n",
    "\n",
    "                #After the middle target word\n",
    "                after_target_word_index = index_target_word + 1\n",
    "                for x in range(after_target_word_index, after_target_word_index + window_size):\n",
    "                    if x < len_of_tweet:\n",
    "                        context_words.extend([tweet[x]])\n",
    "\n",
    "\n",
    "            trgt_word_vector,ctxt_word_vector = get_one_hot_vectors(target_word,context_words,vocab_size,word_to_index)\n",
    "            training_data.append([trgt_word_vector,ctxt_word_vector])\n",
    "        \n",
    "    return training_data"
   ]
  },
  {
   "cell_type": "code",
   "execution_count": 13,
   "id": "313958f2",
   "metadata": {},
   "outputs": [],
   "source": [
    "window_size = 2\n",
    "training_data = generate_training_data(corpus,2,vocab_size,word_to_index)"
   ]
  },
  {
   "cell_type": "code",
   "execution_count": 16,
   "id": "0a3ba869",
   "metadata": {},
   "outputs": [],
   "source": [
    "a = np.array(training_data)"
   ]
  },
  {
   "cell_type": "code",
   "execution_count": 17,
   "id": "5b8c401e",
   "metadata": {},
   "outputs": [
    {
     "data": {
      "text/plain": [
       "(91823, 2, 16919)"
      ]
     },
     "execution_count": 17,
     "metadata": {},
     "output_type": "execute_result"
    }
   ],
   "source": [
    "a.shape"
   ]
  },
  {
   "cell_type": "code",
   "execution_count": 18,
   "id": "07666104",
   "metadata": {},
   "outputs": [
    {
     "data": {
      "text/plain": [
       "array([[-0.90670543,  0.94667243],\n",
       "       [-0.74703643,  0.19072727],\n",
       "       [ 0.24255008, -0.34271979],\n",
       "       [-0.13709134, -0.77700032],\n",
       "       [ 0.92827741, -0.00525138],\n",
       "       [-0.80624595, -0.29255644],\n",
       "       [ 0.36324992,  0.01432209],\n",
       "       [ 0.59483049,  0.15766812],\n",
       "       [ 0.59198006, -0.25510392],\n",
       "       [ 0.39121786,  0.89513802]])"
      ]
     },
     "execution_count": 18,
     "metadata": {},
     "output_type": "execute_result"
    }
   ],
   "source": [
    "np.random.uniform(-1, 1, (10, 2))"
   ]
  },
  {
   "cell_type": "code",
   "execution_count": 19,
   "id": "40fcf276",
   "metadata": {},
   "outputs": [],
   "source": [
    "a = np.arange(9)\n",
    "\n",
    "b = np.ones(9)"
   ]
  },
  {
   "cell_type": "code",
   "execution_count": 20,
   "id": "698df2de",
   "metadata": {},
   "outputs": [
    {
     "data": {
      "text/plain": [
       "array([0, 1, 2, 3, 4, 5, 6, 7, 8])"
      ]
     },
     "execution_count": 20,
     "metadata": {},
     "output_type": "execute_result"
    }
   ],
   "source": [
    "a"
   ]
  },
  {
   "cell_type": "code",
   "execution_count": 21,
   "id": "b0bf6582",
   "metadata": {},
   "outputs": [
    {
     "data": {
      "text/plain": [
       "array([1., 1., 1., 1., 1., 1., 1., 1., 1.])"
      ]
     },
     "execution_count": 21,
     "metadata": {},
     "output_type": "execute_result"
    }
   ],
   "source": [
    "b"
   ]
  },
  {
   "cell_type": "code",
   "execution_count": 23,
   "id": "17c8041c",
   "metadata": {},
   "outputs": [
    {
     "data": {
      "text/plain": [
       "array([[0., 1., 2., 3., 4., 5., 6., 7., 8.],\n",
       "       [0., 1., 2., 3., 4., 5., 6., 7., 8.],\n",
       "       [0., 1., 2., 3., 4., 5., 6., 7., 8.],\n",
       "       [0., 1., 2., 3., 4., 5., 6., 7., 8.],\n",
       "       [0., 1., 2., 3., 4., 5., 6., 7., 8.],\n",
       "       [0., 1., 2., 3., 4., 5., 6., 7., 8.],\n",
       "       [0., 1., 2., 3., 4., 5., 6., 7., 8.],\n",
       "       [0., 1., 2., 3., 4., 5., 6., 7., 8.],\n",
       "       [0., 1., 2., 3., 4., 5., 6., 7., 8.]])"
      ]
     },
     "execution_count": 23,
     "metadata": {},
     "output_type": "execute_result"
    }
   ],
   "source": [
    "np.outer(b.T, a)"
   ]
  },
  {
   "cell_type": "code",
   "execution_count": null,
   "id": "f48aa1e0",
   "metadata": {},
   "outputs": [],
   "source": []
  }
 ],
 "metadata": {
  "kernelspec": {
   "display_name": "Python 3 (ipykernel)",
   "language": "python",
   "name": "python3"
  },
  "language_info": {
   "codemirror_mode": {
    "name": "ipython",
    "version": 3
   },
   "file_extension": ".py",
   "mimetype": "text/x-python",
   "name": "python",
   "nbconvert_exporter": "python",
   "pygments_lexer": "ipython3",
   "version": "3.9.10"
  }
 },
 "nbformat": 4,
 "nbformat_minor": 5
}
